{
 "metadata": {
  "language_info": {
   "codemirror_mode": {
    "name": "ipython",
    "version": 3
   },
   "file_extension": ".py",
   "mimetype": "text/x-python",
   "name": "python",
   "nbconvert_exporter": "python",
   "pygments_lexer": "ipython3",
   "version": "3.8.5-final"
  },
  "orig_nbformat": 2,
  "kernelspec": {
   "name": "python_defaultSpec_1602279670261",
   "display_name": "Python 3.8.5 64-bit"
  }
 },
 "nbformat": 4,
 "nbformat_minor": 2,
 "cells": [
  {
   "cell_type": "code",
   "execution_count": 28,
   "metadata": {},
   "outputs": [],
   "source": [
    "import  numpy as np\n",
    "import time"
   ]
  },
  {
   "cell_type": "code",
   "execution_count": 76,
   "metadata": {},
   "outputs": [],
   "source": [
    "numeros_generados= np.random.normal (5000,30,1000000)"
   ]
  },
  {
   "cell_type": "code",
   "execution_count": 80,
   "metadata": {
    "tags": []
   },
   "outputs": [
    {
     "output_type": "stream",
     "name": "stdout",
     "text": "suma es: 5000020903.36834\nDuracion: 0.5314080715179443 segundos\n"
    }
   ],
   "source": [
    "inicio = time.time ()\n",
    "lista = []\n",
    "for valores in numeros_generados:\n",
    "     if valores <= 500000:\n",
    "         lista.append(valores)\n",
    "\n",
    "\n",
    "print('suma es:' , sum(lista))\n",
    "print('Duracion: {} segundos'.format(time.time() - inicio))\n",
    "         "
   ]
  },
  {
   "cell_type": "code",
   "execution_count": 82,
   "metadata": {
    "tags": []
   },
   "outputs": [
    {
     "output_type": "stream",
     "name": "stdout",
     "text": "5000020903.368456\nDuracion: 0.6710340976715088 segundos\n"
    }
   ],
   "source": [
    "inicio = time.time()\n",
    "numeros_generados = np.intersect1d(numeros_generados, numeros_generados)\n",
    "print(sum(numeros_generados))\n",
    "print('Duracion: {} segundos'.format(time.time() - inicio))"
   ]
  },
  {
   "cell_type": "code",
   "execution_count": null,
   "metadata": {},
   "outputs": [],
   "source": []
  }
 ]
}